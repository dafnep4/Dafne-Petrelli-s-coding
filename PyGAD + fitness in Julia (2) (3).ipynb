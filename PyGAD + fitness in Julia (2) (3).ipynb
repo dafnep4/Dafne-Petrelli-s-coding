{
 "cells": [
  {
   "cell_type": "code",
   "execution_count": 41,
   "id": "afa3a589-3fbc-4559-a7bc-1fd024c0d161",
   "metadata": {},
   "outputs": [
    {
     "name": "stderr",
     "output_type": "stream",
     "text": [
      "\u001b[32m\u001b[1m   Resolving\u001b[22m\u001b[39m package versions...\n",
      "\u001b[32m\u001b[1m  No Changes\u001b[22m\u001b[39m to `C:\\Users\\dafne\\.julia\\environments\\v1.11\\Project.toml`\n",
      "\u001b[32m\u001b[1m  No Changes\u001b[22m\u001b[39m to `C:\\Users\\dafne\\.julia\\environments\\v1.11\\Manifest.toml`\n"
     ]
    }
   ],
   "source": [
    "using Pkg\n",
    "Pkg.add(\"PyCall\")\n",
    "using PyCall"
   ]
  },
  {
   "cell_type": "code",
   "execution_count": 42,
   "id": "282ec30a-f746-4885-b353-c9a695ae8a17",
   "metadata": {},
   "outputs": [
    {
     "data": {
      "text/plain": [
       "PyObject <module 'matplotlib.pyplot' from 'C:\\\\Users\\\\dafne\\\\.julia\\\\conda\\\\3\\\\x86_64\\\\Lib\\\\site-packages\\\\matplotlib\\\\pyplot.py'>"
      ]
     },
     "execution_count": 42,
     "metadata": {},
     "output_type": "execute_result"
    }
   ],
   "source": [
    "sp = pyimport_conda(\"sympy\", \"sympy\")\n",
    "np = pyimport_conda(\"numpy\", \"numpy\")\n",
    "sp_o = pyimport_conda(\"scipy.optimize\", \"scipy\")\n",
    "sp_i = pyimport_conda(\"scipy.integrate\", \"scipy\")\n",
    "pg = pyimport_conda(\"pygad\", \"pygad\")\n",
    "plt = pyimport_conda(\"matplotlib.pyplot\", \"matplotlib\")"
   ]
  },
  {
   "cell_type": "code",
   "execution_count": 43,
   "id": "4c9ef021-c598-4909-8740-b86ac585a0c4",
   "metadata": {},
   "outputs": [
    {
     "name": "stdout",
     "output_type": "stream",
     "text": [
      "0.965\n",
      "0.0266\n",
      "60\n"
     ]
    }
   ],
   "source": [
    "target_ns = 0.965\n",
    "target_r = 0.0266\n",
    "target_N = 60\n",
    "\n",
    "println(target_ns)\n",
    "println(target_r)\n",
    "println(target_N)"
   ]
  },
  {
   "cell_type": "code",
   "execution_count": 44,
   "id": "573ce7e9-025b-4177-a244-0bcb80178861",
   "metadata": {},
   "outputs": [
    {
     "data": {
      "text/plain": [
       "polynomial (generic function with 1 method)"
      ]
     },
     "execution_count": 44,
     "metadata": {},
     "output_type": "execute_result"
    }
   ],
   "source": [
    "function polynomial(coefficients)\n",
    "    \"\"\"computing inflationary potential potential\n",
    "    return parameters : Number of e-folds(N), spectral index (ns), tensor-to-scalar ratio (r)\"\"\"\n",
    "    phi = sp.Symbol(\"phi\")\n",
    "    c0, c1, c2, c3, c4 = coefficients\n",
    "\n",
    "    # inflationary potential skeleton which takes the form of a polynomial.\n",
    "    V_phi_expr = c0 + c1*phi + (c2*phi^2) + (c3*phi^3) + (c4*phi^4)\n",
    "    V_first = sp.diff(V_phi_expr, phi) # computing derivatives.\n",
    "    V_second = sp.diff(V_first, phi)\n",
    "    \n",
    "    # converting to numerical functions.\n",
    "    V = sp.lambdify(phi, V_phi_expr, \"numpy\")\n",
    "    V_1 = sp.lambdify(phi, V_first, \"numpy\")\n",
    "    V_2 = sp.lambdify(phi, V_second, \"numpy\")\n",
    "\n",
    "    function epsilon(phi_val)\n",
    "        \"\"\"computing first slow-roll parameter\"\"\"\n",
    "        v = V(phi_val)\n",
    "        v1 = V_1(phi_val)\n",
    "\n",
    "        # if the input is not valid.\n",
    "        if v <= 0 || np.isnan(v) || np.isnan(v1)\n",
    "            return 1e6\n",
    "        end\n",
    "        if np.abs(v1) < 1e-15 # to avoid division by 0\n",
    "                return 1e6\n",
    "        end\n",
    "        epsilon_calculation = (1/2) * (v1/v)^2\n",
    "        return min(epsilon_calculation, 1000)\n",
    "    end\n",
    "                \n",
    "    function eta(phi_val)\n",
    "        \"\"\"computing second slow-roll parameter\"\"\"\n",
    "        v = V(phi_val)\n",
    "        v2 = V_2(phi_val)\n",
    "\n",
    "        #if the input is not valid.\n",
    "        if v <= 0 || np.isnan(v) || np.isnan(v1)\n",
    "            return 1e6\n",
    "        end\n",
    "        eta_calculation = v2/v\n",
    "        return min(eta_calculation, 1000)\n",
    "    end\n",
    "\n",
    "    # finding scalar field range\n",
    "    phi_start = 20 # started at a higher value to widen the range of the scalar field.\n",
    "    phi_end = 0.01 # starting from the smallest value closer to 0, to find a global minimum.\n",
    "\n",
    "    # checking if evalution is taking place at these points distinctively.\n",
    "    epsilon_start = epsilon(phi_start)\n",
    "    epsilon_end = epsilon(phi_end)\n",
    "\n",
    "    if epsilon_start >= 1e6 || epsilon_end >= 1e6\n",
    "        return nothing, nothing, nothing\n",
    "    end\n",
    "                            \n",
    "    # calulcating the number of e-folds.\n",
    "    function integrand(x)\n",
    "            v = V(x)\n",
    "            v1 = V_1(x)\n",
    "            if np.abs(v1) < 1e-15 || v <= 0\n",
    "                return 0.0\n",
    "        end\n",
    "            return v/v1\n",
    "    end\n",
    "\n",
    "    # applying error handling to the integrand.\n",
    "    phi_points = range(phi_end, phi_start; phi_length, length = 100)\n",
    "    integrand_values = [integrand(x) for x in phi_points]\n",
    "    step_size = step(phi_points)\n",
    "    N_value = sum(step_size * (integrand_values[i] + integrand_values[i+1]) / 2 for i in 1:length(integrand_values)-1)\n",
    "\n",
    "    # calculating observables at horizon exit.\n",
    "    epsilon_star = epsilon(phi_start)\n",
    "    eta_star = eta(phi_star)\n",
    "\n",
    "    if eta_star >= 1e6 || epsilon_star >= 1e6\n",
    "        return nothing, nothing, nothing\n",
    "    end\n",
    "\n",
    "    # computing observables.\n",
    "    ns_computed_value = 1 - (6*epsilon_star) + (2*eta_star)\n",
    "    r_computed_value  = 16*epsilon_star\n",
    "\n",
    "    return ns_computed_value, r_computed_value, N_value\n",
    "end\n",
    "               "
   ]
  },
  {
   "cell_type": "code",
   "execution_count": 45,
   "id": "b84dec04-cc7d-47a8-bb39-f372d5ec0880",
   "metadata": {},
   "outputs": [
    {
     "data": {
      "text/plain": [
       "fitness (generic function with 1 method)"
      ]
     },
     "execution_count": 45,
     "metadata": {},
     "output_type": "execute_result"
    }
   ],
   "source": [
    "function fitness(ga, solution, idx)\n",
    "    \"\"\"fitness function\"\"\"\n",
    "\n",
    "    # evaluating the model.\n",
    "    result = polynomial(solution)\n",
    "\n",
    "    if result == nothing || result[1] == nothing \n",
    "        return 1e-10\n",
    "    end\n",
    "\n",
    "    ns_computed_value, r_computed_value, N_value = result\n",
    "    \n",
    "    if !(N_value <=60)\n",
    "        return 1e-10\n",
    "    end\n",
    "    if !(0.9 <= ns_computed_value <= 1)\n",
    "        return 1e-10\n",
    "    end\n",
    "    if r_computed_value < 0 || r_computed_value > 0.6\n",
    "        return 1e-10\n",
    "    end\n",
    "\n",
    "    # computing absolute value.\n",
    "    ns_abs = abs(ns_computed_value - target_ns) \n",
    "    r_abs = abs(r_computed_value - target_r) \n",
    "    N_abs = abs(N_value - target_N) \n",
    "    \n",
    "    # weighted error calculation.\n",
    "    ns_error = ns_abs / 0.1\n",
    "    r_error = r_abs /0.01\n",
    "    N_error = N_abs / 10 # scaling each value differently depending on which range they lie in.\n",
    "\n",
    "    # penalizing values heavily.\n",
    "    if ns_abs > 0.5\n",
    "        ns_error *= 10\n",
    "    end\n",
    "    if r_abs > 0.5\n",
    "        r_error *= 10\n",
    "    end\n",
    "    if N_abs > 40\n",
    "        N_error *=10\n",
    "    end\n",
    "\n",
    "    # fitness equation.\n",
    "    F = (ns_abs)^2 + (r_abs)^2 + ((1 / np.pi) * atan(N_value - 60)) + 1/2\n",
    "\n",
    "    # loss equation (l = (f)^-1, inverse of the fitness)\n",
    "    L = 1 / F\n",
    "\n",
    "    return F, L\n",
    "end "
   ]
  },
  {
   "cell_type": "code",
   "execution_count": 47,
   "id": "b9a5728d-a019-4243-976a-2fc6468d185d",
   "metadata": {},
   "outputs": [
    {
     "name": "stderr",
     "output_type": "stream",
     "text": [
      "'PyCall.jlwrap' object has no attribute '__code__'\n",
      "Traceback (most recent call last):\n",
      "  File \"C:\\Users\\dafne\\.julia\\conda\\3\\x86_64\\Lib\\site-packages\\pygad\\pygad.py\", line 956, in __init__\n",
      "    if fitness_func.__code__.co_argcount == 3:\n",
      "       ^^^^^^^^^^^^^^^^^^^^^\n",
      "AttributeError: 'PyCall.jlwrap' object has no attribute '__code__'. Did you mean: '__call__'?\n"
     ]
    },
    {
     "ename": "LoadError",
     "evalue": "PyError ($(Expr(:escape, :(ccall(#= C:\\Users\\dafne\\.julia\\packages\\PyCall\\1gn3u\\src\\pyfncall.jl:43 =# @pysym(:PyObject_Call), PyPtr, (PyPtr, PyPtr, PyPtr), o, pyargsptr, kw))))) <class 'AttributeError'>\nAttributeError(\"'PyCall.jlwrap' object has no attribute '__code__'\")\n  File \"C:\\Users\\dafne\\.julia\\conda\\3\\x86_64\\Lib\\site-packages\\pygad\\pygad.py\", line 1339, in __init__\n    raise e\n  File \"C:\\Users\\dafne\\.julia\\conda\\3\\x86_64\\Lib\\site-packages\\pygad\\pygad.py\", line 956, in __init__\n    if fitness_func.__code__.co_argcount == 3:\n       ^^^^^^^^^^^^^^^^^^^^^\n",
     "output_type": "error",
     "traceback": [
      "PyError ($(Expr(:escape, :(ccall(#= C:\\Users\\dafne\\.julia\\packages\\PyCall\\1gn3u\\src\\pyfncall.jl:43 =# @pysym(:PyObject_Call), PyPtr, (PyPtr, PyPtr, PyPtr), o, pyargsptr, kw))))) <class 'AttributeError'>\nAttributeError(\"'PyCall.jlwrap' object has no attribute '__code__'\")\n  File \"C:\\Users\\dafne\\.julia\\conda\\3\\x86_64\\Lib\\site-packages\\pygad\\pygad.py\", line 1339, in __init__\n    raise e\n  File \"C:\\Users\\dafne\\.julia\\conda\\3\\x86_64\\Lib\\site-packages\\pygad\\pygad.py\", line 956, in __init__\n    if fitness_func.__code__.co_argcount == 3:\n       ^^^^^^^^^^^^^^^^^^^^^\n",
      "",
      "Stacktrace:",
      "  [1] \u001b[0m\u001b[1mpyerr_check\u001b[22m",
      "\u001b[90m    @\u001b[39m \u001b[90mC:\\Users\\dafne\\.julia\\packages\\PyCall\\1gn3u\\src\\\u001b[39m\u001b[90m\u001b[4mexception.jl:75\u001b[24m\u001b[39m\u001b[90m [inlined]\u001b[39m",
      "  [2] \u001b[0m\u001b[1mpyerr_check\u001b[22m",
      "\u001b[90m    @\u001b[39m \u001b[90mC:\\Users\\dafne\\.julia\\packages\\PyCall\\1gn3u\\src\\\u001b[39m\u001b[90m\u001b[4mexception.jl:79\u001b[24m\u001b[39m\u001b[90m [inlined]\u001b[39m",
      "  [3] \u001b[0m\u001b[1m_handle_error\u001b[22m\u001b[0m\u001b[1m(\u001b[22m\u001b[90mmsg\u001b[39m::\u001b[0mString\u001b[0m\u001b[1m)\u001b[22m",
      "\u001b[90m    @\u001b[39m \u001b[35mPyCall\u001b[39m \u001b[90mC:\\Users\\dafne\\.julia\\packages\\PyCall\\1gn3u\\src\\\u001b[39m\u001b[90m\u001b[4mexception.jl:96\u001b[24m\u001b[39m",
      "  [4] \u001b[0m\u001b[1mmacro expansion\u001b[22m",
      "\u001b[90m    @\u001b[39m \u001b[90mC:\\Users\\dafne\\.julia\\packages\\PyCall\\1gn3u\\src\\\u001b[39m\u001b[90m\u001b[4mexception.jl:110\u001b[24m\u001b[39m\u001b[90m [inlined]\u001b[39m",
      "  [5] \u001b[0m\u001b[1m#107\u001b[22m",
      "\u001b[90m    @\u001b[39m \u001b[90mC:\\Users\\dafne\\.julia\\packages\\PyCall\\1gn3u\\src\\\u001b[39m\u001b[90m\u001b[4mpyfncall.jl:43\u001b[24m\u001b[39m\u001b[90m [inlined]\u001b[39m",
      "  [6] \u001b[0m\u001b[1mdisable_sigint\u001b[22m",
      "\u001b[90m    @\u001b[39m \u001b[90m.\\\u001b[39m\u001b[90m\u001b[4mc.jl:167\u001b[24m\u001b[39m\u001b[90m [inlined]\u001b[39m",
      "  [7] \u001b[0m\u001b[1m__pycall!\u001b[22m",
      "\u001b[90m    @\u001b[39m \u001b[90mC:\\Users\\dafne\\.julia\\packages\\PyCall\\1gn3u\\src\\\u001b[39m\u001b[90m\u001b[4mpyfncall.jl:42\u001b[24m\u001b[39m\u001b[90m [inlined]\u001b[39m",
      "  [8] \u001b[0m\u001b[1m_pycall!\u001b[22m\u001b[0m\u001b[1m(\u001b[22m\u001b[90mret\u001b[39m::\u001b[0mPyObject, \u001b[90mo\u001b[39m::\u001b[0mPyObject, \u001b[90margs\u001b[39m::\u001b[0mTuple\u001b[90m{}\u001b[39m, \u001b[90mnargs\u001b[39m::\u001b[0mInt64, \u001b[90mkw\u001b[39m::\u001b[0mPyObject\u001b[0m\u001b[1m)\u001b[22m",
      "\u001b[90m    @\u001b[39m \u001b[35mPyCall\u001b[39m \u001b[90mC:\\Users\\dafne\\.julia\\packages\\PyCall\\1gn3u\\src\\\u001b[39m\u001b[90m\u001b[4mpyfncall.jl:29\u001b[24m\u001b[39m",
      "  [9] \u001b[0m\u001b[1m_pycall!\u001b[22m\u001b[0m\u001b[1m(\u001b[22m\u001b[90mret\u001b[39m::\u001b[0mPyObject, \u001b[90mo\u001b[39m::\u001b[0mPyObject, \u001b[90margs\u001b[39m::\u001b[0mTuple\u001b[90m{}\u001b[39m, \u001b[90mkwargs\u001b[39m::\u001b[0m@Kwargs\u001b[90m{num_generations::Int64, sol_per_pop::Int64, num_parents_mating::Int64, num_genes::Int64, fitness_func::typeof(fitness), init_range_low::Float64, init_range_high::Float64, mutation_percent_genes::Float64, mutation_by_replacement::Bool, random_mutation_min_val::Float64, random_mutation_max_val::Float64, crossover_type::String, mutation_type::String, parent_selection_type::String, K_tournament::Int64, keep_parents::Int64, save_best_solutions::Bool, stop_criteria::Vector{String}}\u001b[39m\u001b[0m\u001b[1m)\u001b[22m",
      "\u001b[90m    @\u001b[39m \u001b[35mPyCall\u001b[39m \u001b[90mC:\\Users\\dafne\\.julia\\packages\\PyCall\\1gn3u\\src\\\u001b[39m\u001b[90m\u001b[4mpyfncall.jl:11\u001b[24m\u001b[39m",
      " [10] \u001b[0m\u001b[1m#_#114\u001b[22m",
      "\u001b[90m    @\u001b[39m \u001b[90mC:\\Users\\dafne\\.julia\\packages\\PyCall\\1gn3u\\src\\\u001b[39m\u001b[90m\u001b[4mpyfncall.jl:86\u001b[24m\u001b[39m\u001b[90m [inlined]\u001b[39m",
      " [11] top-level scope",
      "\u001b[90m    @\u001b[39m \u001b[90m\u001b[4mIn[47]:1\u001b[24m\u001b[39m"
     ]
    }
   ],
   "source": [
    "\"\"\"gentic algorithm code using PYGAD\"\"\"\n",
    "ga = pg.GA(\n",
    "    num_generations = 500, # max. number of generations GA will run for.\n",
    "    sol_per_pop = 100, # number of chromosomes in each population.\n",
    "    num_parents_mating = 40, # number of parents which are selected in each generation to mate.\n",
    "    num_genes = 5,\n",
    "    fitness_func = fitness,\n",
    "    init_range_low = -1.0, # initial value for the genes starts wihtin this rnage (completely random).\n",
    "    init_range_high = 1.0,\n",
    "    mutation_percent_genes = 52.1,# 52.1% of the genes in each offspring will be mutated.\n",
    "    mutation_by_replacement = true,\n",
    "    random_mutation_min_val = -1.0,\n",
    "    random_mutation_max_val = 1.0,\n",
    "    crossover_type = \"single_point\",\n",
    "    mutation_type = \"random\",\n",
    "    parent_selection_type = \"tournament\",\n",
    "    K_tournament = 3,\n",
    "    keep_parents = 5, # after mating, keeping only 5 parents.\n",
    "    save_best_solutions = true,\n",
    "    stop_criteria = [\"saturate_10\"]  # stop if no improvement for 10 generations\n",
    ")  \n",
    "\n",
    "ga.run() # running genetic algortihm.\n",
    "\n",
    "solution, F, idx = ga.best_solution() # obtaining best solution.\n",
    "println(f\"\\nBest Coefficients\", solution)\n",
    "@printf(\"Fitness Score: %.2f\\n\", F) \n",
    "    "
   ]
  },
  {
   "cell_type": "code",
   "execution_count": 48,
   "id": "080dce67-d708-49f3-b066-2ea8f6c57c45",
   "metadata": {},
   "outputs": [
    {
     "ename": "LoadError",
     "evalue": "UndefVarError: `solution` not defined in `Main`\nSuggestion: check for spelling errors or missing imports.",
     "output_type": "error",
     "traceback": [
      "UndefVarError: `solution` not defined in `Main`\nSuggestion: check for spelling errors or missing imports.",
      "",
      "Stacktrace:",
      " [1] top-level scope",
      "\u001b[90m   @\u001b[39m \u001b[90m\u001b[4mIn[48]:1\u001b[24m\u001b[39m"
     ]
    }
   ],
   "source": [
    "\"\"\"\"error testing to obtain best solution\"\"\"\n",
    "result = polynomial(solution)\n",
    "\n",
    "if result[1] !== nothing\n",
    "    ns_best, r_best, N_best = result\n",
    "\n",
    "    println(\"\\nFinal Results:\")\n",
    "    @printf(\"n_s: %.4f (target: %.4f)\\n\", ns_best, target_ns)\n",
    "    @printf(\"r: %.4f (target: %.4f)\\n\", r_best, target_r)\n",
    "    @printf(\"N: %.1f (target: %.1f)\\n\", N_best, target_N)\n",
    "\n",
    "    println(\"\\nErrors:\")\n",
    "    @printf(\"Δn_s: %.4f\\n\", abs(ns_best - target_ns))\n",
    "    @printf(\"Δr: %.4f\\n\", abs(r_best - target_r))\n",
    "    @printf(\"ΔN: %.1f\\n\", abs(N_best - target_N))\n",
    "\n",
    "    # Check if the solution is good\n",
    "    if abs(ns_best - target_ns) < 0.1 &&\n",
    "       abs(r_best - target_r) < 0.1 &&\n",
    "       abs(N_best - target_N) < 10\n",
    "        println(\"YASSSSS\")\n",
    "    else\n",
    "        println(\"sad face :(\")\n",
    "        println(\"- Running for more generations\")\n",
    "        println(\"- Trying different target values\")\n",
    "        println(\"- Using a different potential form\")\n",
    "    end\n",
    "else\n",
    "    println(\"\\nERROR: Best solution failed to evaluate!\")\n",
    "    println(\"The optimization may need different constraints or initialization.\")\n",
    "end\n"
   ]
  },
  {
   "cell_type": "markdown",
   "id": "efbdd147-cd16-46fc-99aa-ba652f125955",
   "metadata": {},
   "source": [
    "The last two cells are written perfectly fine in Julia notation but the only reason they do not work is due to the PYGAD library being a pythong library which does not accept the fitness function  written in Julia. This will be a bit tricky since the fitness function that I have written in both python and Julia includes the loss and fitness since L = F^-1, but this can be fixed by seperating the two and just calling them inside the second function. \n",
    "SO, PySR will have to contain a julia written LOSS and PyGAD will have to contain a python written FITNESS."
   ]
  }
 ],
 "metadata": {
  "kernelspec": {
   "display_name": "Julia 1.11.6",
   "language": "julia",
   "name": "julia-1.11"
  },
  "language_info": {
   "file_extension": ".jl",
   "mimetype": "application/julia",
   "name": "julia",
   "version": "1.11.6"
  }
 },
 "nbformat": 4,
 "nbformat_minor": 5
}
